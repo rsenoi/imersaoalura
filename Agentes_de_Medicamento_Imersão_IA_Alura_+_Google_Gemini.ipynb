{
  "nbformat": 4,
  "nbformat_minor": 0,
  "metadata": {
    "colab": {
      "provenance": [],
      "include_colab_link": true
    },
    "kernelspec": {
      "name": "python3",
      "display_name": "Python 3"
    },
    "language_info": {
      "name": "python"
    }
  },
  "cells": [
    {
      "cell_type": "markdown",
      "metadata": {
        "id": "view-in-github",
        "colab_type": "text"
      },
      "source": [
        "<a href=\"https://colab.research.google.com/github/rsenoi/imersaoalura/blob/main/Agentes_de_Medicamento_Imers%C3%A3o_IA_Alura_%2B_Google_Gemini.ipynb\" target=\"_parent\"><img src=\"https://colab.research.google.com/assets/colab-badge.svg\" alt=\"Open In Colab\"/></a>"
      ]
    },
    {
      "cell_type": "markdown",
      "source": [
        "**Agentes de Medicamento**\n",
        "\n",
        "\n",
        "Quem nunca se viu perdido após uma consulta médica, sem lembrar exatamente para que serve aquele medicamento receitado? A proposta aqui é criar uma ferramenta capaz de fornecer informações cruciais sobre um dado remédio, como sua indicação terapêutica, modo de uso, a faixa de preço praticada no mercado, possíveis efeitos colaterais, a disponibilidade de um correspondente genérico e a respectiva variação de preço.\n",
        "\n",
        "Aspectos Técnicos:\n",
        "\n",
        "Entrada:\n",
        " *   Nome do medicamento\n",
        "\n",
        "Saída:\n",
        "*   Nome do medicamento completo\n",
        "*   Indicação terapêutica\n",
        "*   Posologia e modo de uso\n",
        "*   Faixa de preço do medicamento original\n",
        "*   Possíveis efeitos colaterais\n",
        "*   Disponibilidade de genérico: Sim/Não\n",
        "*   Faixa de preço do medicamento genérico (se disponível)\n",
        "\n",
        "Arquitetura:\n",
        "\n",
        "Agente 1, Agente 2 => Redator => Revisor\n",
        "*   Agente de Busca ANVISA:\n",
        "Encarregado de consultar a base de dados da Agência Nacional de Vigilância Sanitária (ANVISA) para obter informações oficiais sobre o medicamento, como indicação, uso e efeitos colaterais.\n",
        "\n",
        "*   Agente de Busca de Preços:\n",
        "Responsável por pesquisar em diversos sites de e-commerce e farmácias online para coletar dados sobre a faixa de preço do medicamento original dos últimos 5 meses e, se disponível, do genérico.\n",
        "*   Redator:\n",
        "Utiliza as informações coletadas pelos Agentes de Busca para gerar um descritivo claro e acessível para o usuário leigo, evitando termos técnicos complexos.\n",
        "*   Revisor:\n",
        "Realiza uma verificação ortográfica e de \"temperatura\" (garantindo que a linguagem seja adequada e amigável) do texto produzido pelo Redator antes de\n",
        "ser apresentado ao usuário.\n"
      ],
      "metadata": {
        "id": "SaSkZVGoghto"
      }
    },
    {
      "cell_type": "code",
      "source": [
        "%pip -q install google-genai"
      ],
      "metadata": {
        "id": "UCCbECexLk_h"
      },
      "execution_count": 2,
      "outputs": []
    },
    {
      "cell_type": "code",
      "source": [
        "# Configura a API Key do Google Gemini\n",
        "\n",
        "import os\n",
        "from google.colab import userdata\n",
        "\n",
        "os.environ[\"GOOGLE_API_KEY\"] = userdata.get('GOOGLE_API_KEY')"
      ],
      "metadata": {
        "id": "NfCqHo1tLk8P"
      },
      "execution_count": 3,
      "outputs": []
    },
    {
      "cell_type": "code",
      "source": [
        "# Configura o cliente da SDK do Gemini\n",
        "\n",
        "from google import genai\n",
        "\n",
        "client = genai.Client()\n",
        "\n",
        "MODEL_ID = \"gemini-2.0-flash\""
      ],
      "metadata": {
        "id": "bV4w0H5TLk5g"
      },
      "execution_count": 4,
      "outputs": []
    },
    {
      "cell_type": "code",
      "source": [
        "# Instalar Framework ADK de agentes do Google ################################################\n",
        "%pip install -q google-adk"
      ],
      "metadata": {
        "id": "hvZ3UnPI4jhJ"
      },
      "execution_count": 5,
      "outputs": []
    },
    {
      "cell_type": "code",
      "execution_count": 6,
      "metadata": {
        "id": "aePV2bdfDeoW"
      },
      "outputs": [],
      "source": [
        "from google.adk.agents import Agent\n",
        "from google.adk.runners import Runner\n",
        "from google.adk.sessions import InMemorySessionService\n",
        "from google.adk.tools import google_search\n",
        "from google.genai import types  # Para criar conteúdos (Content e Part)\n",
        "from datetime import date\n",
        "import textwrap # Para formatar melhor a saída de texto\n",
        "from IPython.display import display, Markdown # Para exibir texto formatado no Colab\n",
        "import requests # Para fazer requisições HTTP\n",
        "import warnings\n",
        "\n",
        "warnings.filterwarnings(\"ignore\")"
      ]
    },
    {
      "cell_type": "code",
      "source": [
        "# Função auxiliar que envia uma mensagem para um agente via Runner e retorna a resposta final\n",
        "def call_agent(agent: Agent, message_text: str) -> str:\n",
        "    # Cria um serviço de sessão em memória\n",
        "    session_service = InMemorySessionService()\n",
        "    # Cria uma nova sessão (você pode personalizar os IDs conforme necessário)\n",
        "    session = session_service.create_session(app_name=agent.name, user_id=\"user1\", session_id=\"session1\")\n",
        "    # Cria um Runner para o agente\n",
        "    runner = Runner(agent=agent, app_name=agent.name, session_service=session_service)\n",
        "    # Cria o conteúdo da mensagem de entrada\n",
        "    content = types.Content(role=\"user\", parts=[types.Part(text=message_text)])\n",
        "\n",
        "    final_response = \"\"\n",
        "    # Itera assincronamente pelos eventos retornados durante a execução do agente\n",
        "    for event in runner.run(user_id=\"user1\", session_id=\"session1\", new_message=content):\n",
        "        if event.is_final_response():\n",
        "          for part in event.content.parts:\n",
        "            if part.text is not None:\n",
        "              final_response += part.text\n",
        "              final_response += \"\\n\"\n",
        "    return final_response"
      ],
      "metadata": {
        "id": "_xP4lWhsS5ko"
      },
      "execution_count": 7,
      "outputs": []
    },
    {
      "cell_type": "code",
      "source": [
        "# Função auxiliar para exibir texto formatado em Markdown no Colab\n",
        "def to_markdown(text):\n",
        "  text = text.replace('•', '  *')\n",
        "  return Markdown(textwrap.indent(text, '> ', predicate=lambda _: True))"
      ],
      "metadata": {
        "id": "8dosiodaxfFR"
      },
      "execution_count": 8,
      "outputs": []
    },
    {
      "cell_type": "code",
      "source": [
        "##########################################\n",
        "#   Agente 1: Buscador do Medicamento    #\n",
        "##########################################\n",
        "def agente_buscador_medicamento(medicamento):\n",
        "    buscador_medicamento = Agent(\n",
        "        name=\"agente_busca_medicamento\",\n",
        "        model=\"gemini-2.0-flash\",\n",
        "        # Inserir as instruções do Agente #################################################\n",
        "        instruction=\"\"\"\n",
        "        Você como um farmaceutico experiente em medicamentos, falando em português, que deve buscar no site oficial da ANVISA, www.gob.br/anvisa,\n",
        "        no sistema “Bulário Eletronico” os dados do medicamento solicitado\n",
        "        (Nome do medicamento completo, Indicação, Uso, Efeitos colaterais e se existe medicamento similar generico com o nome)\n",
        "        Sempre incluir os links de busca oficial da ANVISA utilizado por você como fonte de referência para futuras buscas. Quando não existir o link passe o link da ANVISA com a Bulário Eletronico.\n",
        "        \"\"\",\n",
        "        description=\"Agente que busca o descritivo do medicamento\",\n",
        "        tools=[google_search]\n",
        "\n",
        "    )\n",
        "\n",
        "    entrada_do_agente_buscador_medicamento = f\"Medicamento:{medicamento}\\n\"\n",
        "    # Executa o agente\n",
        "    descritivo_do_medicamento = call_agent(buscador_medicamento, entrada_do_agente_buscador_medicamento)\n",
        "    return descritivo_do_medicamento"
      ],
      "metadata": {
        "id": "o8bqIfi_DyH8"
      },
      "execution_count": 77,
      "outputs": []
    },
    {
      "cell_type": "code",
      "source": [
        "################################################\n",
        "# --- Agente 2: buscador de preco --- #\n",
        "################################################\n",
        "def agente_buscador_preco(medicamento):\n",
        "    buscador_preco = Agent(\n",
        "        name=\"agente_buscador_preco\",\n",
        "        model=\"gemini-2.0-flash\",\n",
        "        # Inserir as instruções do Agente Buscador #################################################\n",
        "        instruction=\"\"\"\n",
        "        Você como um comprador de produtos farmacêuticos experiente, falando em português, deve buscar nos sites de e-commerce brasileiros o medicamento\n",
        "        contendo o menor e o maior preço em reais, dos últimos 5 meses. Quando existir preço, coloque os preços no formato \"R$ 0,00 \" ou \"menor preço R$ 0,00 e maior preço R$ 0,00\"\n",
        "        Inclua os links de busca dos e-commerces pesquisados por você para servirem como referência de busca.\n",
        "        \"\"\",\n",
        "        description=\"Agente que busca o preco\",\n",
        "        tools=[google_search]\n",
        "    )\n",
        "\n",
        "    entrada_do_agente_buscador_preco = f\"Medicamento:{medicamento}\\n\"\n",
        "    # Executa o agente\n",
        "    preco_medicamento = call_agent(buscador_preco, entrada_do_agente_buscador_preco)\n",
        "    return preco_medicamento"
      ],
      "metadata": {
        "id": "y3VO1uo5_ghO"
      },
      "execution_count": 79,
      "outputs": []
    },
    {
      "cell_type": "code",
      "source": [
        "######################################\n",
        "# --- Agente 3: Redator das buscas - #\n",
        "######################################\n",
        "def agente_redator(medicamento, descritivo_do_medicamento, preco_medicamento):\n",
        "    redator = Agent(\n",
        "        name=\"agente_redator\",\n",
        "        model=\"gemini-2.5-flash-preview-04-17\",\n",
        "        instruction=\"\"\"\n",
        "            Você como um farmaceutico experiente em atendimento de pessoas leigas em medicamentos e que responde de forma resumida, para que todos entendam,\n",
        "            falando em português, resuma as informações do medicamento(descritivo e preco) contendo os campos: Nome do remedio, Indicação, Uso, Faixa de preço, Efeitos colaterais, Generico e Faxia preço do genérico.\n",
        "            Não inclua seus comentários pessoais, somente as informações do medicamento.\n",
        "            No campo “Uso”, após a narrativa inclua um adendo para verificar na receita o tempo de utilização. Separa os campos \"Genérico\" e \"Faixa de preço do genérico\".\n",
        "            No campo “Genérico\" e no campo \"Faixa de preço do generico”, inclua o nome do medicamento similar e preco caso existam.\n",
        "            Inclua, ao final de cada pesquisa o campo “Observação: ” com a seguinte premissa:\n",
        "            Sempre deixar claro que as informações descritas não substituem a ida ao médico.\n",
        "            No campo “Source” sempre colocar os links de busca passados no descritivo e no preços. Caso não exista a link da ANVISA incluir como referencia.\n",
        "            Ao invés de “Source” coloque “Referências”.\n",
        "            \"\"\",\n",
        "        description=\"Agente redator de medicadmentos ira resumir as informacoes\"\n",
        "    )\n",
        "    entrada_do_agente_redator = f\"Medicamento: {medicamento}\\nDescricao do Medicamento: {descritivo_do_medicamento}\\nPreco: {preco_medicamento}\"\n",
        "    # Executa o agente\n",
        "    rascunho = call_agent(redator, entrada_do_agente_redator)\n",
        "    return rascunho"
      ],
      "metadata": {
        "id": "uOqlg2TRLVh1"
      },
      "execution_count": 62,
      "outputs": []
    },
    {
      "cell_type": "code",
      "source": [
        "##########################################\n",
        "# --- Agente 4: Revisor de Qualidade --- #\n",
        "##########################################\n",
        "def agente_revisor(medicamento, rascunho):\n",
        "    revisor = Agent(\n",
        "        name=\"agente_revisor\",\n",
        "        model=\"gemini-2.5-flash-preview-04-17\",\n",
        "        instruction=\"\"\"\n",
        "            Você é um Editor e Farmaceutico Revisor de Conteúdo meticuloso, especializado em medicamentos, com foco em bulas.\n",
        "            Por ter um público leigo em medicamentos, que fala em português e de forma resumida, revise o rascunho, verificando clareza, concisão, correção e tom.\n",
        "            Retorne o texto caso estaja adequado com a \"Descritivo: APROVADO\" no inicio do texto, pulando uma linha para o inicio do texto.\n",
        "            Caso haja problemas, corrija e retorne o texto com a \"Descritivo: REVISADO\" no inicio do texto, pulando uma linha para o inicio do texto.\n",
        "            \"\"\",\n",
        "        description=\"Agente revisor de medicamentos.\"\n",
        "    )\n",
        "    entrada_do_agente_revisor = f\"Medicamento: {medicamento}\\nRascunho: {rascunho}\"\n",
        "    # Executa o agente\n",
        "    texto_revisado = call_agent(revisor, entrada_do_agente_revisor)\n",
        "    return texto_revisado"
      ],
      "metadata": {
        "id": "_aTb1SdkLeT6"
      },
      "execution_count": 58,
      "outputs": []
    },
    {
      "cell_type": "code",
      "source": [
        "def impressao(texto):\n",
        "  print(f\"\\n---------------------------------\\n\")\n",
        "  display(to_markdown(texto))\n",
        "  print(f\"\\n---------------------------------\\n\\n\")"
      ],
      "metadata": {
        "id": "flqz44kRql70"
      },
      "execution_count": 44,
      "outputs": []
    },
    {
      "cell_type": "code",
      "source": [
        "# Chamada Principal  ################################################\n",
        "medicamento = input('Digite o nome do medicamento: ')\n",
        "\n",
        "if medicamento == '':\n",
        "  print(f'\\nMedicamento não informado. Saindo da consulta.\\n\\n')\n",
        "else:\n",
        "  print(f'\\nProcessando ... Aguarde...\\n')\n",
        "  descritivo_do_medicamento = agente_buscador_medicamento(medicamento)\n",
        "  #impressao(descritivo_do_medicamento)\n",
        "  preco_medicamento = agente_buscador_preco(medicamento)\n",
        "  #impressao(preco_medicamento)\n",
        "  rascunho = agente_redator(medicamento, descritivo_do_medicamento, preco_medicamento)\n",
        "  #impressao(rascunho)\n",
        "  texto_revisado = agente_revisor(medicamento, rascunho)\n",
        "  impressao(texto_revisado)\n",
        "\n",
        "\n",
        "\n"
      ],
      "metadata": {
        "id": "630ummxz4myx",
        "collapsed": true
      },
      "execution_count": null,
      "outputs": []
    }
  ]
}